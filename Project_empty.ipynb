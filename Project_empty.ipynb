{
 "cells": [
  {
   "cell_type": "markdown",
   "metadata": {},
   "source": [
    "# Clean and extract Data"
   ]
  },
  {
   "cell_type": "code",
   "execution_count": null,
   "metadata": {},
   "outputs": [],
   "source": [
    "import pandas as pd\n",
    "import warnings\n",
    "warnings.filterwarnings('ignore')\n",
    "\n",
    "filepath_read = \"Data/Wikipedia_Editor_Survey_2012_-_anonymized_dataset.csv\"\n",
    "filepath_save = \"Data/Wikipedia_Editor_Survey_2012_-_anonymized_dataset_clean.csv\"\n",
    "TimeSpent, Age, Education = [\"Q20_1_TEXT\", \"Q21\", \"Q22\"]\n",
    "\n",
    "df = pd.read_csv(filepath_read)\n",
    "\n",
    "df = df[[Age,TimeSpent,Education]]     # Strip columns\n",
    "df = df[pd.notnull(df[TimeSpent])]     # Remove NaN\n",
    "df = df[pd.notnull(df[Age])]           # Remove NaN\n",
    "df = df[pd.notnull(df[Education])]     # Remove NaN\n",
    "\n",
    "df = df[df[Age] != \"Decline to state\"] # remove decline\n",
    "df.loc[df[Age] == \"_ 18\", Age] = 0     # less than 18 => 0\n",
    "df.loc[df[Age] == \"> 99\", Age] = 100   # More than 99 => 100\n",
    "\n",
    "df = df.iloc[1:]                       # Remove first row\n",
    "\n",
    "df = df.astype(int)\n",
    "\n",
    "df.to_csv(filepath_save, index=False, header=False)\n",
    "\n",
    "df.head()"
   ]
  },
  {
   "cell_type": "markdown",
   "metadata": {},
   "source": [
    "### Example Load Clean Data Pandas"
   ]
  },
  {
   "cell_type": "code",
   "execution_count": null,
   "metadata": {},
   "outputs": [],
   "source": [
    "filepath = \"Data/Wikipedia_Editor_Survey_2012_-_anonymized_dataset_clean.csv\"\n",
    "names = [\"Age\",\"Time\",\"Education\"]\n",
    "df = pd.read_csv(filepath, names=names, dtype=dict((n,int) for n in names))\n",
    "\n",
    "df.head()"
   ]
  },
  {
   "cell_type": "markdown",
   "metadata": {},
   "source": [
    "### Example Load Clean Data Open(...)"
   ]
  },
  {
   "cell_type": "code",
   "execution_count": null,
   "metadata": {},
   "outputs": [],
   "source": [
    "with open(filepath) as f:\n",
    "    for i,line in enumerate(f):\n",
    "        print(\"line\",i,\":\",line.rstrip())\n",
    "        if i == 4:\n",
    "            break"
   ]
  },
  {
   "cell_type": "markdown",
   "metadata": {},
   "source": [
    "# MapReduce Answers"
   ]
  },
  {
   "cell_type": "markdown",
   "metadata": {},
   "source": [
    "### Bins"
   ]
  },
  {
   "cell_type": "code",
   "execution_count": null,
   "metadata": {},
   "outputs": [],
   "source": [
    "%%file Scripts\\_bins.py\n",
    "# This file serves as common binning functions for all MapReduce classes\n",
    "\n",
    "_agebins = [19, 25, 35, 50, 64] # + [ >= 64 ]\n",
    "_timebins = [1, 3, 6, 10, 16] # + [ >= 16 ]\n",
    "\n",
    "def agebin(age):\n",
    "    age = int(age)\n",
    "    for i,val in enumerate(_agebins):\n",
    "        if age < val:\n",
    "            return i\n",
    "    return len(_agebins)\n",
    "        \n",
    "def timebin(time):\n",
    "    time = int(time)\n",
    "    for i,val in enumerate(_timebins):\n",
    "        if time < val:\n",
    "            return i\n",
    "    return len(_timebins)"
   ]
  },
  {
   "cell_type": "markdown",
   "metadata": {},
   "source": [
    "### Count Age Groups MR"
   ]
  },
  {
   "cell_type": "code",
   "execution_count": null,
   "metadata": {},
   "outputs": [],
   "source": [
    "%%file Scripts\\agegroups.py\n",
    "from mrjob.job import MRJob\n",
    "from _bins import agebin\n",
    "\n",
    "class MRJobAgeGroups(MRJob):\n",
    "    \n",
    "    # Map: keyval = (age,1)\n",
    "    def mapper(self, _, line):\n",
    "        answers = line.split(\",\")\n",
    "        yield agebin(answers[0]), 1\n",
    "    \n",
    "    # Red: keyval = (age,sum([1,1..1]))\n",
    "    def reducer(self, agegroup, counts):\n",
    "        yield agegroup, sum(counts)\n",
    "    \n",
    "if __name__ == '__main__':\n",
    "    MRJobAgeGroups.run()"
   ]
  },
  {
   "cell_type": "markdown",
   "metadata": {},
   "source": [
    "### Count Distinct Grouped Answers MR"
   ]
  },
  {
   "cell_type": "code",
   "execution_count": null,
   "metadata": {},
   "outputs": [],
   "source": [
    "%%file Scripts\\distinct.py\n",
    "from mrjob.job import MRJob\n",
    "from _bins import agebin,timebin\n",
    "\n",
    "class MRJobDistinct(MRJob):\n",
    "    \n",
    "    # Map: keyval = ((age,time,education),1)\n",
    "    def mapper(self, _, line):\n",
    "        answers = line.split(\",\")\n",
    "        yield (agebin(answers[0]), timebin(answers[1]), int(answers[2])), 1\n",
    "    \n",
    "    # Red: keyval = ((age,time,education),sum([1,1..1]))\n",
    "    def reducer(self, group, counts):\n",
    "        yield group, sum(counts)\n",
    "    \n",
    "if __name__ == '__main__':\n",
    "    MRJobDistinct.run()"
   ]
  },
  {
   "cell_type": "markdown",
   "metadata": {},
   "source": [
    "### Pearson Age Time Correlation MR"
   ]
  },
  {
   "cell_type": "code",
   "execution_count": null,
   "metadata": {},
   "outputs": [],
   "source": [
    "%%file Scripts\\corr.py\n",
    "from mrjob.job import MRJob\n",
    "from mrjob.step import MRStep\n",
    "from _bins import agebin,timebin\n",
    "\n",
    "class MRJobPearsonCorr(MRJob):\n",
    "    \n",
    "    keys = [\"n\",\"x\",\"xx\",\"xy\",\"y\",\"yy\"]\n",
    "    \n",
    "    # Mapper mapping each partial sum of each sum-variable for each line in file\n",
    "    # Map: keyval = (\"var_i\",var_i_j) - var_i = {\"n\",\"x\",\"xx\",\"xy\",\"y\",\"y\"}\n",
    "    def mapper(self, _, line):\n",
    "        answers = line.split(\",\")\n",
    "        xi,yi = agebin(answers[0]), timebin(answers[1])\n",
    "        yield self.keys[0], 1,\n",
    "        yield self.keys[1], xi\n",
    "        yield self.keys[2], xi*xi\n",
    "        yield self.keys[3], xi*yi\n",
    "        yield self.keys[4], yi\n",
    "        yield self.keys[5], yi*yi\n",
    "    \n",
    "    # Reducer summarising each variable\n",
    "    # Map: keyval = (\"var_i\",sum(var_i_j)) - var_i = {\"n\",\"x\",\"xx\",\"xy\",\"y\",\"y\"} - j = 0..n-1\n",
    "    def reducer_sum(self, var, values):\n",
    "        yield None, (var, sum(values))\n",
    "     \n",
    "    # Reducer extracting variables and computing PCC\n",
    "    # Map: keyval = (\"PCC\", PCC(n,x,xx,xy,y,yy))\n",
    "    def reducer_pearson(self, _, varsumpairs):\n",
    "        varsumpairs = dict(varsumpairs)\n",
    "        n,x,xx,xy,y,yy = [varsumpairs[k] for k in self.keys]\n",
    "        yield \"PCC\", ( xy-x*y/n ) / ( (xx-(x**2)/n) * (yy-(y**2)/n) )**0.5\n",
    "    \n",
    "    # 2 step to calculate PCC for age and time\n",
    "    def steps(self):\n",
    "        return [\n",
    "            MRStep(mapper=self.mapper,\n",
    "                   reducer=self.reducer_sum),\n",
    "            MRStep(reducer=self.reducer_pearson)\n",
    "        ]\n",
    "    \n",
    "if __name__ == '__main__':\n",
    "    MRJobPearsonCorr.run()"
   ]
  },
  {
   "cell_type": "markdown",
   "metadata": {},
   "source": [
    "### Complete analysis MR"
   ]
  },
  {
   "cell_type": "code",
   "execution_count": null,
   "metadata": {},
   "outputs": [],
   "source": [
    "%%file Scripts\\full.py\n",
    "from mrjob.job import MRJob\n",
    "from mrjob.step import MRStep\n",
    "from _bins import agebin,timebin\n",
    "\n",
    "class MRJobFull(MRJob):\n",
    "    \n",
    "    keys = [\"n\",\"x\",\"xx\",\"xy\",\"y\",\"yy\"]\n",
    "    \n",
    "    # Mapper reading input file into binned (age,time) pairs for counting\n",
    "    # Map: keyval = ((age,time),1)\n",
    "    def mapper_1(self, _, line):\n",
    "        answers = line.split(',')\n",
    "        yield (agebin(answers[0]), timebin(answers[1])), 1\n",
    "    \n",
    "    # Reducer counting co-occurance of each distinct (age,time) pair\n",
    "    # Red: keyval = (age, (time_i, sum([1,1, ... 1])) - i = 0..5\n",
    "    def reducer_1(self, group, values):\n",
    "        yield group[0], (group[1], sum(values))\n",
    "    \n",
    "    # Reducer collecting list of co-occurancens of age and time-values for each bin sorted by timebin index\n",
    "    # Red: keyval = (age, [sum(t0), sum(t1), sum(t2), ... sum(t6)])\n",
    "    def reducer_2(self, a, tvals):\n",
    "        yield None, (a, [val for _,val in sorted(tvals, key=lambda tval: tval[0])])\n",
    "    \n",
    "    # Reducer collecting list of co-occurances for each group-pair\n",
    "    # Red: keyval = ((groupi,groupj),([vals_i],[vals_j])) - i = 0..5 - j = [1..4] > i\n",
    "    def reducer_3(self, _, avalpairs):\n",
    "        avalpairs = list(avalpairs)\n",
    "        for i,keyvali in enumerate(avalpairs):\n",
    "            for keyvalj in avalpairs[i+1:]:\n",
    "                x, vali = keyvali\n",
    "                y, valj = keyvalj\n",
    "                key = str(x) + str(y)\n",
    "                yield key, (vali, valj)\n",
    "    \n",
    "    # Mapper mapping the PCC variables for each group-pair\n",
    "    # Map: keyval = ((group-pair,\"var_i\"),var_i_j) - var_i = {\"n\",\"x\",\"xx\",\"xy\",\"y\",\"y\"} - j = 0..n-1\n",
    "    def mapper_2(self, key, pair):\n",
    "        x = list(pair[0])\n",
    "        y = list(pair[1])\n",
    "        sumx = sum(x)\n",
    "        sumy = sum(y)\n",
    "        \n",
    "        for xi,yi in zip(x,y):\n",
    "            xi /= sumx # turn into percentages\n",
    "            yi /= sumy # turn into percentages\n",
    "            yield (key,self.keys[0]), 1\n",
    "            yield (key,self.keys[1]), xi\n",
    "            yield (key,self.keys[2]), xi**2\n",
    "            yield (key,self.keys[3]), xi*yi\n",
    "            yield (key,self.keys[4]), yi\n",
    "            yield (key,self.keys[5]), yi**2\n",
    "    \n",
    "    # Reducer summarising each group-pair PCC-variables\n",
    "    # Red: keyval = (group-pair,(\"var_i\",sum(var_i_j)))  - var_i = {\"n\",\"x\",\"xx\",\"xy\",\"y\",\"y\"} - j = 0..n-1\n",
    "    def reducer_4(self, groups_vars, values):\n",
    "        yield groups_vars[0], (groups_vars[1], sum(values))\n",
    "    \n",
    "    # Reudcer extracting variables for each group and computing PCC\n",
    "    # Red: keyval = ((\"PCC\", group-pair), PCC(n,x,xx,xy,y,yy))\n",
    "    def reducer_5(self, groups, varsumpairs):\n",
    "        varsumpairs = dict(varsumpairs)\n",
    "        n,x,xx,xy,y,yy = [varsumpairs[k] for k in self.keys]\n",
    "        key = ('PCC',f'Group {groups[0]}', f'Group {groups[1]}')\n",
    "        yield key, ( xy-x*y/n ) / ( (xx-(x**2)/n) * (yy-(y**2)/n) )**0.5\n",
    "\n",
    "    # 5 Steps to complete PCC for all group-pairs\n",
    "    def steps(self):\n",
    "        return [MRStep(mapper=self.mapper_1, reducer=self.reducer_1),\n",
    "                MRStep(reducer=self.reducer_2),\n",
    "                MRStep(reducer=self.reducer_3),\n",
    "                MRStep(mapper=self.mapper_2, reducer=self.reducer_4),\n",
    "                MRStep(reducer=self.reducer_5)]\n",
    "    \n",
    "if __name__ == '__main__':\n",
    "    MRJobFull.run()"
   ]
  },
  {
   "cell_type": "markdown",
   "metadata": {},
   "source": [
    "### Test"
   ]
  },
  {
   "cell_type": "code",
   "execution_count": null,
   "metadata": {
    "scrolled": true
   },
   "outputs": [],
   "source": [
    "!python Scripts\\agegroups.py Data\\Wikipedia_Editor_Survey_2012_-_anonymized_dataset_clean.csv --quiet"
   ]
  },
  {
   "cell_type": "code",
   "execution_count": null,
   "metadata": {
    "scrolled": true
   },
   "outputs": [],
   "source": [
    "!python Scripts\\distinct.py Data\\Wikipedia_Editor_Survey_2012_-_anonymized_dataset_clean.csv --quiet"
   ]
  },
  {
   "cell_type": "code",
   "execution_count": null,
   "metadata": {},
   "outputs": [],
   "source": [
    "!python Scripts\\corr.py Data\\Wikipedia_Editor_Survey_2012_-_anonymized_dataset_clean.csv --quiet"
   ]
  },
  {
   "cell_type": "code",
   "execution_count": null,
   "metadata": {
    "scrolled": true
   },
   "outputs": [],
   "source": [
    "!python Scripts\\full.py Data\\Wikipedia_Editor_Survey_2012_-_anonymized_dataset_clean.csv --quiet"
   ]
  },
  {
   "cell_type": "markdown",
   "metadata": {},
   "source": [
    "### Test"
   ]
  },
  {
   "cell_type": "markdown",
   "metadata": {},
   "source": [
    "# SQLite Answers"
   ]
  },
  {
   "cell_type": "code",
   "execution_count": null,
   "metadata": {},
   "outputs": [],
   "source": [
    "import sqlite3\n",
    "from textwrap import indent,dedent\n",
    "\n",
    "class Sql:\n",
    "    # Static values\n",
    "    table = \"wiki\"\n",
    "    fields = [\"id\", \"age\", \"time\", \"education\"]\n",
    "    datapath = 'Data/Wikipedia_Editor_Survey_2012_-_anonymized_dataset_clean.csv'\n",
    "    \n",
    "    # Generate table(columns) string (for population)\n",
    "    # optionally with types (for table creation)\n",
    "    def table_cmd(self, crt = False):\n",
    "        fld = ''\n",
    "        for i,field in enumerate(self.fields):\n",
    "            prmkey = ' primary key' if crt and i == 0 else ''\n",
    "            fldtyp = ' integer' + prmkey if crt else ''\n",
    "            fld += field + fldtyp + ', '\n",
    "        return f'{self.table}({fld[:-2]})'\n",
    "\n",
    "    # Shortcut for executing on cursor and committing to db\n",
    "    # optionally without printing the query command.\n",
    "    def exe(self, cmd, verbose = True):\n",
    "        cmd = dedent(cmd)\n",
    "        c = self.db.cursor()\n",
    "        if verbose:\n",
    "            print(cmd)\n",
    "        c.execute(cmd + ';')\n",
    "        self.db.commit()\n",
    "        return c\n",
    "    \n",
    "    # Sets up database, creates and populates table if none is found already,\n",
    "    # optionally by forcing the database to reload from file.\n",
    "    def __init__(self, databaseName, reloadDb = False):\n",
    "        self.db = sqlite3.connect(databaseName)\n",
    "        self.db.row_factory = lambda _,row: row[0] if len(row) == 1 else row\n",
    "        self.addFuncs()\n",
    "        \n",
    "        tableCheck = self.exe(f'SELECT name FROM sqlite_master WHERE type=\"table\" AND name=\"{self.table}\"', False).fetchone()\n",
    "        if reloadDb and tableCheck:\n",
    "            self.exe(f'drop table {self.table}')\n",
    "        if reloadDb or not tableCheck:\n",
    "            self.exe(f'create table {self.table_cmd(crt=True)}')\n",
    "            self.populate()\n",
    "    \n",
    "    # Populates table from file given in the static path\n",
    "    def populate(self):\n",
    "        with open(self.datapath) as file:\n",
    "            print(\"Populating from file: \"+self.datapath)\n",
    "            for i,line in enumerate(file):\n",
    "                cmd = f'insert into {self.table_cmd()} values ({i}, {line.rstrip()})'\n",
    "                self.exe(cmd)\n",
    "            print(\"Populating completed.\")\n",
    "    \n",
    "    # Adds non-native support for power and squareroot functions to the database\n",
    "    def addFuncs(self):\n",
    "        def power(a,b):\n",
    "            return float(a)**float(b)\n",
    "        \n",
    "        def sqrt(a):\n",
    "            return float(a)**0.5\n",
    "        \n",
    "        self.db.create_function(\"pow\",2,power)\n",
    "        self.db.create_function(\"sqrt\",1,sqrt)\n",
    "    \n",
    "    # Generates query sub-string for extracting age into bins\n",
    "    # tabs are purely flavour for printing prettily.\n",
    "    def agebin(self, tabs=0):\n",
    "        age = self.fields[1]\n",
    "        substring = f\"\"\"\n",
    "            (case\n",
    "                when {age} < 19 then 0\n",
    "                when {age} < 25 then 1\n",
    "                when {age} < 35 then 2\n",
    "                when {age} < 50 then 3\n",
    "                when {age} < 64 then 4\n",
    "                else 5\n",
    "            end)\"\"\"\n",
    "        return indent(dedent(substring),\"    \"*tabs)[1+4*tabs:]\n",
    "    \n",
    "    # Generates query sub-string for extracting time into bins\n",
    "    # tabs are purely flavour for printing prettily.\n",
    "    def timebin(self, tabs=0):\n",
    "        time = self.fields[2]\n",
    "        substring = f\"\"\"\n",
    "            (case\n",
    "                when {time} < 1 then 0\n",
    "                when {time} < 3 then 1\n",
    "                when {time} < 6 then 2\n",
    "                when {time} < 10 then 3\n",
    "                when {time} < 16 then 4\n",
    "                else 5\n",
    "            end)\"\"\"\n",
    "        return indent(dedent(substring),\"    \"*tabs)[1+4*tabs:]\n",
    "    \n",
    "    # Execute query for counting populations of distinct age groups\n",
    "    def count_age_groups(self):\n",
    "        table = self.table #wiki\n",
    "        command = f\"\"\"\n",
    "            select\n",
    "                {self.agebin(tabs=4)} as agebin,\n",
    "                count(*)\n",
    "            from {table}\n",
    "            group by agebin\n",
    "        \"\"\"\n",
    "        return self.exe(command).fetchall()\n",
    "    \n",
    "    # Execute query for counting distinct grouped answers\n",
    "    def count_distinct_grouped_answers(self):\n",
    "        table = self.table #wiki\n",
    "        edu = self.fields[3]\n",
    "        command = f\"\"\"\n",
    "            select\n",
    "                {self.agebin(tabs=4)} as agebin,\n",
    "                {self.timebin(tabs=4)} as timebin,\n",
    "                {edu},\n",
    "                count(*)\n",
    "            from {table}\n",
    "            group by agebin,timebin,{edu}\n",
    "        \"\"\"\n",
    "        return self.exe(command).fetchall()\n",
    "    \n",
    "    # Execute query for finding pearson correlation between the age and the time column\n",
    "    def pearson_age_time_correlation(self):\n",
    "        table = self.table #wiki\n",
    "        command = f\"\"\"\n",
    "            select ( xy-x*y/n ) / sqrt( ( xx-pow(x,2)/n ) * ( yy-pow(y,2)/n ) )\n",
    "            from (\n",
    "                select\n",
    "                    count(*) as n,\n",
    "                    sum(xi) as x,\n",
    "                    sum(xi*xi) as xx,\n",
    "                    sum(xi*yi) as xy,\n",
    "                    sum(yi) as y,\n",
    "                    sum(yi*yi) as yy\n",
    "                from (\n",
    "                    select\n",
    "                        {self.agebin(tabs=6)} as xi,\n",
    "                        {self.timebin(tabs=6)} as yi\n",
    "                    from {table}\n",
    "                )\n",
    "            )\n",
    "        \"\"\"\n",
    "        return self.exe(command).fetchone()\n",
    "    \n",
    "    def close(self):\n",
    "        self.db.close()"
   ]
  },
  {
   "cell_type": "markdown",
   "metadata": {},
   "source": [
    "### Test"
   ]
  },
  {
   "cell_type": "code",
   "execution_count": null,
   "metadata": {
    "scrolled": true
   },
   "outputs": [],
   "source": [
    "#sql = Sql('Sqlite/test.sqlite', reloadDb=True)\n",
    "#sql.close()"
   ]
  },
  {
   "cell_type": "code",
   "execution_count": null,
   "metadata": {
    "scrolled": true
   },
   "outputs": [],
   "source": [
    "sql = Sql('Sqlite/test.sqlite', reloadDb=False)"
   ]
  },
  {
   "cell_type": "code",
   "execution_count": null,
   "metadata": {},
   "outputs": [],
   "source": [
    "sql.count_age_groups()"
   ]
  },
  {
   "cell_type": "code",
   "execution_count": null,
   "metadata": {
    "scrolled": true
   },
   "outputs": [],
   "source": [
    "sql.count_distinct_grouped_answers()"
   ]
  },
  {
   "cell_type": "code",
   "execution_count": null,
   "metadata": {
    "scrolled": false
   },
   "outputs": [],
   "source": [
    "sql.pearson_age_time_correlation()"
   ]
  },
  {
   "cell_type": "code",
   "execution_count": null,
   "metadata": {},
   "outputs": [],
   "source": [
    "sql.close()"
   ]
  },
  {
   "cell_type": "code",
   "execution_count": null,
   "metadata": {},
   "outputs": [],
   "source": []
  }
 ],
 "metadata": {
  "kernelspec": {
   "display_name": "Python 3",
   "language": "python",
   "name": "python3"
  },
  "language_info": {
   "codemirror_mode": {
    "name": "ipython",
    "version": 3
   },
   "file_extension": ".py",
   "mimetype": "text/x-python",
   "name": "python",
   "nbconvert_exporter": "python",
   "pygments_lexer": "ipython3",
   "version": "3.6.7"
  }
 },
 "nbformat": 4,
 "nbformat_minor": 2
}
