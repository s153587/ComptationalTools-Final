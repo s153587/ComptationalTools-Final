{
 "cells": [
  {
   "cell_type": "markdown",
   "metadata": {},
   "source": [
    "# Imports"
   ]
  },
  {
   "cell_type": "code",
   "execution_count": 1,
   "metadata": {},
   "outputs": [],
   "source": [
    "# Used for loading data, statistics and clustering,\n",
    "import pandas as pd\n",
    "import numpy as np"
   ]
  },
  {
   "cell_type": "code",
   "execution_count": 2,
   "metadata": {},
   "outputs": [],
   "source": [
    "# Not used directly in jupyter but used in the script files\n",
    "# created and tested by jupyter. Used by mapreduce scripts.\n",
    "import mrjob\n",
    "from mrjob.job import MRJob\n",
    "from mrjob.step import MRStep"
   ]
  },
  {
   "cell_type": "code",
   "execution_count": 3,
   "metadata": {},
   "outputs": [],
   "source": [
    "# Used to make sql queries and print them nicely.\n",
    "import sqlite3\n",
    "from textwrap import indent,dedent"
   ]
  },
  {
   "cell_type": "code",
   "execution_count": 4,
   "metadata": {},
   "outputs": [],
   "source": [
    "# Visualization\n",
    "import matplotlib.pyplot as plt"
   ]
  },
  {
   "cell_type": "markdown",
   "metadata": {},
   "source": [
    "# Create Folders"
   ]
  },
  {
   "cell_type": "code",
   "execution_count": 5,
   "metadata": {},
   "outputs": [],
   "source": [
    "import os\n",
    "for directory in [\"./Scripts\", \"./Sqlite\"]:\n",
    "    if not os.path.exists(directory):\n",
    "        os.makedirs(directory)"
   ]
  },
  {
   "cell_type": "markdown",
   "metadata": {},
   "source": [
    "# Clean and extract Data"
   ]
  },
  {
   "cell_type": "code",
   "execution_count": 6,
   "metadata": {},
   "outputs": [
    {
     "data": {
      "text/html": [
       "<div>\n",
       "<style scoped>\n",
       "    .dataframe tbody tr th:only-of-type {\n",
       "        vertical-align: middle;\n",
       "    }\n",
       "\n",
       "    .dataframe tbody tr th {\n",
       "        vertical-align: top;\n",
       "    }\n",
       "\n",
       "    .dataframe thead th {\n",
       "        text-align: right;\n",
       "    }\n",
       "</style>\n",
       "<table border=\"1\" class=\"dataframe\">\n",
       "  <thead>\n",
       "    <tr style=\"text-align: right;\">\n",
       "      <th></th>\n",
       "      <th>Age</th>\n",
       "      <th>Time</th>\n",
       "    </tr>\n",
       "  </thead>\n",
       "  <tbody>\n",
       "    <tr>\n",
       "      <th>0</th>\n",
       "      <td>26</td>\n",
       "      <td>0</td>\n",
       "    </tr>\n",
       "    <tr>\n",
       "      <th>1</th>\n",
       "      <td>71</td>\n",
       "      <td>40</td>\n",
       "    </tr>\n",
       "    <tr>\n",
       "      <th>2</th>\n",
       "      <td>27</td>\n",
       "      <td>0</td>\n",
       "    </tr>\n",
       "    <tr>\n",
       "      <th>3</th>\n",
       "      <td>18</td>\n",
       "      <td>2</td>\n",
       "    </tr>\n",
       "    <tr>\n",
       "      <th>4</th>\n",
       "      <td>42</td>\n",
       "      <td>0</td>\n",
       "    </tr>\n",
       "  </tbody>\n",
       "</table>\n",
       "</div>"
      ],
      "text/plain": [
       "   Age  Time\n",
       "0   26     0\n",
       "1   71    40\n",
       "2   27     0\n",
       "3   18     2\n",
       "4   42     0"
      ]
     },
     "execution_count": 6,
     "metadata": {},
     "output_type": "execute_result"
    }
   ],
   "source": [
    "filepath_read = \"Data/Wikipedia_Editor_Survey_2012_-_anonymized_dataset.csv\"\n",
    "filepath_save = \"Data/Wikipedia_Editor_Survey_2012_-_anonymized_dataset_clean.csv\"\n",
    "time,age = columns = [\"Q20_1_TEXT\", \"Q21\"]\n",
    "\n",
    "df = pd.read_csv(filepath_read, low_memory=False)\n",
    "\n",
    "df = df[[age,time]] # Extract columns\n",
    "\n",
    "df.loc[df[age] == \"Decline to state\", age] = np.nan # turn \"decline\" into nan\n",
    "df.loc[df[age] == \"_ 18\", age] = 0                  # less than 18 => 0\n",
    "df.loc[df[age] == \"> 99\", age] = 100                # More than 99 => 100\n",
    "\n",
    "df.dropna(inplace=True)    # Drop NaN / None / Null\n",
    "df.drop([0], inplace=True) # Remove first row with string questions\n",
    "df = df.astype(int)        # Convert all to int\n",
    "\n",
    "df.to_csv(filepath_save, index=False, header=False)\n",
    "\n",
    "# Display sample of data saved\n",
    "df.reset_index(drop=True, inplace=True)\n",
    "df.rename(columns={'Q20_1_TEXT':'Time','Q21':'Age',}, inplace=True)\n",
    "df.head()"
   ]
  },
  {
   "cell_type": "markdown",
   "metadata": {},
   "source": [
    "### Example Load Clean Data Pandas"
   ]
  },
  {
   "cell_type": "code",
   "execution_count": 7,
   "metadata": {},
   "outputs": [
    {
     "data": {
      "text/html": [
       "<div>\n",
       "<style scoped>\n",
       "    .dataframe tbody tr th:only-of-type {\n",
       "        vertical-align: middle;\n",
       "    }\n",
       "\n",
       "    .dataframe tbody tr th {\n",
       "        vertical-align: top;\n",
       "    }\n",
       "\n",
       "    .dataframe thead th {\n",
       "        text-align: right;\n",
       "    }\n",
       "</style>\n",
       "<table border=\"1\" class=\"dataframe\">\n",
       "  <thead>\n",
       "    <tr style=\"text-align: right;\">\n",
       "      <th></th>\n",
       "      <th>Age</th>\n",
       "      <th>Time</th>\n",
       "    </tr>\n",
       "  </thead>\n",
       "  <tbody>\n",
       "    <tr>\n",
       "      <th>9675</th>\n",
       "      <td>28</td>\n",
       "      <td>10</td>\n",
       "    </tr>\n",
       "    <tr>\n",
       "      <th>9676</th>\n",
       "      <td>38</td>\n",
       "      <td>1</td>\n",
       "    </tr>\n",
       "    <tr>\n",
       "      <th>9677</th>\n",
       "      <td>32</td>\n",
       "      <td>2</td>\n",
       "    </tr>\n",
       "    <tr>\n",
       "      <th>9678</th>\n",
       "      <td>60</td>\n",
       "      <td>5</td>\n",
       "    </tr>\n",
       "    <tr>\n",
       "      <th>9679</th>\n",
       "      <td>26</td>\n",
       "      <td>33</td>\n",
       "    </tr>\n",
       "  </tbody>\n",
       "</table>\n",
       "</div>"
      ],
      "text/plain": [
       "      Age  Time\n",
       "9675   28    10\n",
       "9676   38     1\n",
       "9677   32     2\n",
       "9678   60     5\n",
       "9679   26    33"
      ]
     },
     "execution_count": 7,
     "metadata": {},
     "output_type": "execute_result"
    }
   ],
   "source": [
    "filepath = \"Data/Wikipedia_Editor_Survey_2012_-_anonymized_dataset_clean.csv\"\n",
    "names = [\"Age\",\"Time\"]\n",
    "\n",
    "df = pd.read_csv(filepath, names=names, dtype=dict((n,int) for n in names))\n",
    "\n",
    "df.tail()"
   ]
  },
  {
   "cell_type": "markdown",
   "metadata": {},
   "source": [
    "### Example Load Clean Data Open(...)"
   ]
  },
  {
   "cell_type": "code",
   "execution_count": 8,
   "metadata": {},
   "outputs": [
    {
     "name": "stdout",
     "output_type": "stream",
     "text": [
      "line 0: Age: 26, Time:  0, Raw text: \"26,0\\n\"\n",
      "line 1: Age: 71, Time: 40, Raw text: \"71,40\\n\"\n",
      "line 2: Age: 27, Time:  0, Raw text: \"27,0\\n\"\n",
      "line 3: Age: 18, Time:  2, Raw text: \"18,2\\n\"\n",
      "line 4: Age: 42, Time:  0, Raw text: \"42,0\\n\"\n"
     ]
    }
   ],
   "source": [
    "with open(filepath) as f:\n",
    "    for i,line in enumerate(f):\n",
    "        line = line.rstrip()\n",
    "        answers = line.split(',')\n",
    "        print(f'line {i}: Age:{answers[0]:>3}, Time:{answers[1]:>3}, Raw text: \"{line}\\\\n\"')\n",
    "        if i == 4:\n",
    "            break"
   ]
  },
  {
   "cell_type": "markdown",
   "metadata": {},
   "source": [
    "# Summary statistics"
   ]
  },
  {
   "cell_type": "markdown",
   "metadata": {},
   "source": [
    "Serves to provide a simple overview of the data-set rather than be an actual part of the implementation."
   ]
  },
  {
   "cell_type": "code",
   "execution_count": 9,
   "metadata": {},
   "outputs": [],
   "source": [
    "def load_points(column = 0, filepath = 'Data/Wikipedia_Editor_Survey_2012_-_anonymized_dataset_clean.csv'):\n",
    "    \n",
    "    # Load points using the example provided earlier\n",
    "    with open(filepath) as f:\n",
    "        for i,line in enumerate(f):\n",
    "            cols = line.rstrip().split(',')\n",
    "            yield int(cols[column])\n",
    "            \n",
    "age_points  = list(load_points(0))\n",
    "time_points = list(load_points(1))"
   ]
  },
  {
   "cell_type": "code",
   "execution_count": 10,
   "metadata": {},
   "outputs": [
    {
     "name": "stdout",
     "output_type": "stream",
     "text": [
      "Summary staticstics for Age\n",
      "Mean: 31.93 +- 19.33\n",
      "Min: 0, Max: 100\n",
      "\n",
      "Summary staticstics for Time\n",
      "Mean: 4.69 +- 8.90\n",
      "Min: 0, Max: 96\n",
      "\n",
      "Completed summary statistics for 9680 respondents!\n"
     ]
    }
   ],
   "source": [
    "def summary(points, title):\n",
    "    print(f'Summary staticstics for {title}')\n",
    "    print('Mean: %0.2f +- %0.2f' % (np.mean(points), np.std(points)))\n",
    "    print('Min: %d, Max: %d\\n' % (np.min(points), np.max(points)))\n",
    "\n",
    "summary(age_points, 'Age')\n",
    "summary(time_points, 'Time')\n",
    "print(f'Completed summary statistics for {len(age_points)} respondents!')"
   ]
  },
  {
   "cell_type": "markdown",
   "metadata": {},
   "source": [
    "# Clustering"
   ]
  },
  {
   "cell_type": "markdown",
   "metadata": {},
   "source": [
    "### Un-parallelized implementation of K-means"
   ]
  },
  {
   "cell_type": "code",
   "execution_count": 11,
   "metadata": {},
   "outputs": [
    {
     "name": "stdout",
     "output_type": "stream",
     "text": [
      "Converged after 8 iterations with the following centroids:\n",
      "[ 0.   22.41 31.48 43.79 56.65 69.67]\n",
      "\n",
      "Converged after 3 iterations with the following centroids:\n",
      "[ 1.43 13.21 28.79 44.54 58.29 77.46]\n",
      "\n",
      "Upper bounds for age:  [12, 27, 38, 51, 64]\n",
      "Upper bounds for time: [8, 22, 37, 52, 68]\n"
     ]
    }
   ],
   "source": [
    "import numpy as np\n",
    "\n",
    "MAX_AGE  = 100\n",
    "MAX_TIME = 96\n",
    "\n",
    "CLUSTER_COUNT = 6\n",
    "MAX_ITERATIONS = 100\n",
    "PRECISION = 2\n",
    "\n",
    "def nearest_centroid(point, centroids):\n",
    "    dists = np.array([abs(centroid - point) for centroid in centroids])\n",
    "    return np.argmin(dists)\n",
    "\n",
    "def k_means(points, k = CLUSTER_COUNT, max_iterations = MAX_ITERATIONS, precision = PRECISION):\n",
    "    \n",
    "    # Optionally change precision for output\n",
    "    np.set_printoptions(precision=precision)\n",
    "    \n",
    "    # Initialize centroids uniformly\n",
    "    centroids = np.array([idx*MAX_AGE/(k+0.5) for idx in range(k)])\n",
    "    \n",
    "    def update_centroids():\n",
    "        return np.array([np.mean(cluster) for cluster in clusters])\n",
    "    \n",
    "    def is_converged():\n",
    "        for i, centroid in enumerate(centroids):\n",
    "            if centroid != updated_centroids[i]:\n",
    "                return False\n",
    "        return True\n",
    "    \n",
    "    for iteration in range(max_iterations):\n",
    "        \n",
    "        # Initialize clean clusters\n",
    "        clusters = [[] for idx in range(k)]\n",
    "        \n",
    "        # Assign points to nearest cluster and update\n",
    "        for point in points:\n",
    "            clusters[nearest_centroid(point, centroids)].append(point)\n",
    "        updated_centroids = update_centroids()\n",
    "\n",
    "        if is_converged():\n",
    "            print(f'Converged after {iteration+1} iterations with the following centroids:\\n{updated_centroids}\\n')\n",
    "            return updated_centroids\n",
    "    \n",
    "        centroids = updated_centroids\n",
    "    \n",
    "    return centroids\n",
    "\n",
    "# Compute centroids from previously loaded points\n",
    "age_centroids  = k_means(age_points)\n",
    "time_centroids = k_means(time_points)\n",
    "\n",
    "def get_upper_bounds(centroids, xmin, xmax):\n",
    "    upper_bound = []\n",
    "    prev_centroid = None\n",
    "    for i in range(xmin, xmax):\n",
    "        centroid = nearest_centroid(i, centroids)\n",
    "        if centroid != prev_centroid and centroid > 0:\n",
    "            upper_bound.append(i)\n",
    "        prev_centroid = centroid\n",
    "    return upper_bound\n",
    "\n",
    "# Get upper-bound representation of centroids for each column\n",
    "print('Upper bounds for age: ', get_upper_bounds(age_centroids, 0, MAX_AGE))\n",
    "print('Upper bounds for time:', get_upper_bounds(time_centroids, 0, MAX_TIME))"
   ]
  },
  {
   "cell_type": "markdown",
   "metadata": {},
   "source": [
    "As such, the (integer) upper bound for each cluster in a column (age, time) has been found. Note that points beyond the last bound are implicitly assigned to the remaining cluster, as that check is unneccessary. These bounds will be used for the remainder of the project."
   ]
  },
  {
   "cell_type": "markdown",
   "metadata": {},
   "source": [
    "# MapReduce Answers"
   ]
  },
  {
   "cell_type": "markdown",
   "metadata": {},
   "source": [
    "### Bins"
   ]
  },
  {
   "cell_type": "code",
   "execution_count": 12,
   "metadata": {},
   "outputs": [
    {
     "name": "stdout",
     "output_type": "stream",
     "text": [
      "Overwriting Scripts/_bins.py\n"
     ]
    }
   ],
   "source": [
    "%%file Scripts/_bins.py\n",
    "# This file serves as common binning functions for all MapReduce classes\n",
    "\n",
    "# Bounds found from clusters\n",
    "_agebounds = [12, 27, 38, 51, 64] # + [ >= 64 ]\n",
    "_timebounds = [8, 21, 37, 52, 68] # + [ >= 68 ]\n",
    "\n",
    "# Bound which are better for PCC\n",
    "_timebounds = [1, 3, 6, 10, 16] # + [ >= 16 ]\n",
    "\n",
    "def agebin(age):\n",
    "    age = int(age)\n",
    "    for i,val in enumerate(_agebounds):\n",
    "        if age < val:\n",
    "            return i\n",
    "    return len(_agebounds)\n",
    "        \n",
    "def timebin(time):\n",
    "    time = int(time)\n",
    "    for i,val in enumerate(_timebounds):\n",
    "        if time < val:\n",
    "            return i\n",
    "    return len(_timebounds)\n",
    "\n",
    "def getUpperBounds():\n",
    "    return _agebounds, _timebounds"
   ]
  },
  {
   "cell_type": "markdown",
   "metadata": {},
   "source": [
    "### Test import from file"
   ]
  },
  {
   "cell_type": "code",
   "execution_count": 13,
   "metadata": {},
   "outputs": [],
   "source": [
    "from Scripts._bins import agebin,timebin,getUpperBounds"
   ]
  },
  {
   "cell_type": "markdown",
   "metadata": {},
   "source": [
    "### Count Age Groups MR"
   ]
  },
  {
   "cell_type": "code",
   "execution_count": 14,
   "metadata": {},
   "outputs": [
    {
     "name": "stdout",
     "output_type": "stream",
     "text": [
      "Overwriting Scripts/agegroups.py\n"
     ]
    }
   ],
   "source": [
    "%%file Scripts/agegroups.py\n",
    "from mrjob.job import MRJob\n",
    "from _bins import agebin\n",
    "\n",
    "class MRJobAgeGroups(MRJob):\n",
    "    \n",
    "    # Map: keyval = (age,1)\n",
    "    def mapper(self, _, line):\n",
    "        answers = line.split(\",\")\n",
    "        yield agebin(answers[0]), 1\n",
    "    \n",
    "    # Red: keyval = (age,sum([1,1..1]))\n",
    "    def reducer(self, agegroup, counts):\n",
    "        yield agegroup, sum(counts)\n",
    "    \n",
    "if __name__ == '__main__':\n",
    "    MRJobAgeGroups.run()"
   ]
  },
  {
   "cell_type": "markdown",
   "metadata": {},
   "source": [
    "### Count Distinct Grouped Answers MR"
   ]
  },
  {
   "cell_type": "code",
   "execution_count": 15,
   "metadata": {},
   "outputs": [
    {
     "name": "stdout",
     "output_type": "stream",
     "text": [
      "Overwriting Scripts/distinct.py\n"
     ]
    }
   ],
   "source": [
    "%%file Scripts/distinct.py\n",
    "from mrjob.job import MRJob\n",
    "from _bins import agebin,timebin\n",
    "\n",
    "class MRJobDistinct(MRJob):\n",
    "    \n",
    "    # Map: keyval = ((age,time),1)\n",
    "    def mapper(self, _, line):\n",
    "        answers = line.split(\",\")\n",
    "        yield (agebin(answers[0]), timebin(answers[1])), 1\n",
    "    \n",
    "    # Red: keyval = ((age,time),sum([1,1..1]))\n",
    "    def reducer(self, group, counts):\n",
    "        yield group, sum(counts)\n",
    "    \n",
    "if __name__ == '__main__':\n",
    "    MRJobDistinct.run()"
   ]
  },
  {
   "cell_type": "markdown",
   "metadata": {},
   "source": [
    "### Pearson Age Time Correlation MR"
   ]
  },
  {
   "cell_type": "code",
   "execution_count": 16,
   "metadata": {},
   "outputs": [
    {
     "name": "stdout",
     "output_type": "stream",
     "text": [
      "Overwriting Scripts/corr.py\n"
     ]
    }
   ],
   "source": [
    "%%file Scripts/corr.py\n",
    "import mrjob\n",
    "from mrjob.job import MRJob\n",
    "from mrjob.step import MRStep\n",
    "from _bins import agebin,timebin\n",
    "\n",
    "class MRJobPearsonCorr(MRJob):\n",
    "    \n",
    "    # Remove key from output\n",
    "    OUTPUT_PROTOCOL = mrjob.protocol.JSONValueProtocol\n",
    "    \n",
    "    # Mapper mapping each partial sum of each sum-variable for each line in file\n",
    "    # Map: keyval = (\"var_i\",var_i_j), var_i = {\"n\",\"x\",\"xx\",\"xy\",\"y\",\"y\"}\n",
    "    def mapper(self, _, line):\n",
    "        answers = line.split(\",\")\n",
    "        xi,yi = agebin(answers[0]), timebin(answers[1])\n",
    "        yield \"n\",  1,\n",
    "        yield \"x\",  xi\n",
    "        yield \"xx\", xi*xi\n",
    "        yield \"xy\", xi*yi\n",
    "        yield \"y\",  yi\n",
    "        yield \"yy\", yi*yi\n",
    "    \n",
    "    # Reducer summarising each variable\n",
    "    # Map: keyval = (\"var_i\",sum(var_i_j)),\n",
    "    #               var_i = {\"n\",\"x\",\"xx\",\"xy\",\"y\",\"y\"}, j = 0..n-1\n",
    "    def reducer_sum(self, var, values):\n",
    "        yield None, (var, sum(values))\n",
    "     \n",
    "    # Reducer extracting variables and computing PCC\n",
    "    # Map: value = PCC(n,x,xx,xy,y,yy)\n",
    "    def reducer_pearson(self, _, varsumpairs):\n",
    "        # Sort by var name and extract into variables (6 vars)\n",
    "        n,x,xx,xy,y,yy = (varsum for _,varsum in sorted(varsumpairs))\n",
    "        yield None, ( xy-x*y/n ) / ( (xx-(x**2)/n) * (yy-(y**2)/n) )**0.5\n",
    "    \n",
    "    # 2 step to calculate PCC for age and time\n",
    "    def steps(self):\n",
    "        return [\n",
    "            MRStep(mapper=self.mapper,\n",
    "                   reducer=self.reducer_sum),\n",
    "            MRStep(reducer=self.reducer_pearson)\n",
    "        ]\n",
    "    \n",
    "if __name__ == '__main__':\n",
    "    MRJobPearsonCorr.run()"
   ]
  },
  {
   "cell_type": "markdown",
   "metadata": {},
   "source": [
    "### Pearson Age-group Correlations MR"
   ]
  },
  {
   "cell_type": "code",
   "execution_count": 17,
   "metadata": {},
   "outputs": [
    {
     "name": "stdout",
     "output_type": "stream",
     "text": [
      "Overwriting Scripts/full.py\n"
     ]
    }
   ],
   "source": [
    "%%file Scripts/full.py\n",
    "from mrjob.job import MRJob\n",
    "from mrjob.step import MRStep\n",
    "from _bins import agebin,timebin\n",
    "\n",
    "class MRJobFull(MRJob):\n",
    "    \n",
    "    # Mapper reading input file into binned (age,time) pairs for counting\n",
    "    # Map: keyval = ((age,time),1)\n",
    "    def mapper_grouped_answers(self, _, line):\n",
    "        answers = line.split(\",\")\n",
    "        yield (agebin(answers[0]), timebin(answers[1])), 1\n",
    "    \n",
    "    # Reducer counting co-occurance of each distinct (age,time) pair\n",
    "    # Red: keyval = (time_k, (age_i, sum([1,1, ... 1])), i = 0..5, k = 0..5 \n",
    "    def reducer_grouped_answers_sum(self, agetime, counts):\n",
    "        age,time = agetime\n",
    "        yield time, (age, sum(counts))\n",
    "    \n",
    "    # Reducer extracting pairs of age pairs and time values\n",
    "    # Red: keyval = ((agei,agej),(time_k_i],[time_k_j])), \n",
    "    #               i = 0..5, j = 1..4 > i, k = 0..5\n",
    "    def reducer_agegroup_pairs(self, time, agetimevalues):\n",
    "        # Sort by age group (scales to amount of agebins)\n",
    "        agetimevalues = sorted(agetimevalues) \n",
    "        for agei,timei in agetimevalues:\n",
    "            for agej,timej in agetimevalues[agei+1:]:\n",
    "                yield (agei,agej),(timei,timej)\n",
    "    \n",
    "    # Mapper mapping all partial-sums for each age-pair\n",
    "    # Map: keyval = ((group-pair,\"var\"), var_i),\n",
    "    #               var = {\"n\",\"x\",\"xx\",\"xy\",\"y\",\"y\"}, i = 0..n-1\n",
    "    def mapper_pearson(self, group, timevalues):\n",
    "        xi,yi = timevalues\n",
    "        yield (group, \"n\"),  1\n",
    "        yield (group, \"x\"),  xi\n",
    "        yield (group, \"xx\"), xi**2\n",
    "        yield (group, \"xy\"), xi*yi\n",
    "        yield (group, \"y\"),  yi\n",
    "        yield (group, \"yy\"), yi**2\n",
    "    \n",
    "    # Reducer summarising each group-pair PCC-variables\n",
    "    # Red: keyval = (group-pair,(\"var\",sum(var_i))),\n",
    "    #               var = {\"n\",\"x\",\"xx\",\"xy\",\"y\",\"y\"}, i = 0..n-1\n",
    "    def reducer_pearson_sum(self, groupvar, partialsums):\n",
    "        group,var = groupvar\n",
    "        yield group, (var, sum(partialsums))\n",
    "    \n",
    "    # Reudcer extracting variables for each group and computing PCC\n",
    "    # Red: keyval = (group-pair, PCC(n,x,xx,xy,y,yy))\n",
    "    def reducer_pearson_compute(self, group, varsumpairs):\n",
    "        # Sort by var name and extract into variables (6 vars)\n",
    "        n,x,xx,xy,y,yy = (varsum for _,varsum in sorted(varsumpairs))\n",
    "        yield group, ( xy-x*y/n ) / ( (xx-(x**2)/n) * (yy-(y**2)/n) )**0.5\n",
    "    \n",
    "    # 4 Steps to complete PCC for all group-pairs\n",
    "    def steps(self):\n",
    "        return [\n",
    "            MRStep(mapper=self.mapper_grouped_answers,\n",
    "                   reducer=self.reducer_grouped_answers_sum),\n",
    "            MRStep(reducer=self.reducer_agegroup_pairs),\n",
    "            MRStep(mapper=self.mapper_pearson,\n",
    "                   reducer=self.reducer_pearson_sum),\n",
    "            MRStep(reducer=self.reducer_pearson_compute)\n",
    "        ]\n",
    "    \n",
    "if __name__ == '__main__':\n",
    "    MRJobFull.run()"
   ]
  },
  {
   "cell_type": "markdown",
   "metadata": {},
   "source": [
    "### Test"
   ]
  },
  {
   "cell_type": "code",
   "execution_count": 18,
   "metadata": {
    "scrolled": true
   },
   "outputs": [
    {
     "name": "stdout",
     "output_type": "stream",
     "text": [
      "0\t1520\n",
      "1\t2355\n",
      "2\t2194\n",
      "3\t1892\n",
      "4\t1178\n",
      "5\t541\n"
     ]
    }
   ],
   "source": [
    "!python Scripts/agegroups.py Data/Wikipedia_Editor_Survey_2012_-_anonymized_dataset_clean.csv --quiet"
   ]
  },
  {
   "cell_type": "markdown",
   "metadata": {},
   "source": [
    "Visualization of above results. Identical to the output of our SQL query."
   ]
  },
  {
   "cell_type": "code",
   "execution_count": 19,
   "metadata": {},
   "outputs": [
    {
     "data": {
      "image/png": "[encoded data removed]",
      "text/plain": [
       "<Figure size 432x288 with 1 Axes>"
      ]
     },
     "metadata": {
      "needs_background": "light"
     },
     "output_type": "display_data"
    }
   ],
   "source": [
    "grp = [i for i in range(6)]\n",
    "num = [1520, 2355, 2194, 1892, 1178, 541]\n",
    "\n",
    "plt.bar(grp, num)\n",
    "plt.title('Distribution of respondents by age')\n",
    "plt.ylabel('Count')\n",
    "plt.xlabel('Age group')\n",
    "plt.show()"
   ]
  },
  {
   "cell_type": "code",
   "execution_count": 20,
   "metadata": {
    "scrolled": false
   },
   "outputs": [
    {
     "name": "stdout",
     "output_type": "stream",
     "text": [
      "[0, 0]\t639\n",
      "[0, 1]\t364\n",
      "[0, 2]\t230\n",
      "[0, 3]\t102\n",
      "[0, 4]\t87\n",
      "[0, 5]\t98\n",
      "[1, 0]\t941\n",
      "[1, 1]\t502\n",
      "[1, 2]\t373\n",
      "[1, 3]\t142\n",
      "[1, 4]\t212\n",
      "[1, 5]\t185\n",
      "[2, 0]\t879\n",
      "[2, 1]\t483\n",
      "[2, 2]\t326\n",
      "[2, 3]\t128\n",
      "[2, 4]\t199\n",
      "[2, 5]\t179\n",
      "[3, 0]\t754\n",
      "[3, 1]\t385\n",
      "[3, 2]\t292\n",
      "[3, 3]\t115\n",
      "[3, 4]\t195\n",
      "[3, 5]\t151\n",
      "[4, 0]\t502\n",
      "[4, 1]\t228\n",
      "[4, 2]\t145\n",
      "[4, 3]\t76\n",
      "[4, 4]\t134\n",
      "[4, 5]\t93\n",
      "[5, 0]\t258\n",
      "[5, 1]\t96\n",
      "[5, 2]\t51\n",
      "[5, 3]\t29\n",
      "[5, 4]\t46\n",
      "[5, 5]\t61\n"
     ]
    }
   ],
   "source": [
    "!python Scripts/distinct.py Data/Wikipedia_Editor_Survey_2012_-_anonymized_dataset_clean.csv --quiet"
   ]
  },
  {
   "cell_type": "code",
   "execution_count": 21,
   "metadata": {},
   "outputs": [
    {
     "name": "stdout",
     "output_type": "stream",
     "text": [
      "0.026134354852822218\n"
     ]
    }
   ],
   "source": [
    "!python Scripts/corr.py Data/Wikipedia_Editor_Survey_2012_-_anonymized_dataset_clean.csv --quiet"
   ]
  },
  {
   "cell_type": "code",
   "execution_count": 22,
   "metadata": {},
   "outputs": [
    {
     "name": "stdout",
     "output_type": "stream",
     "text": [
      "[0, 1]\t0.9928116386919172\n",
      "[0, 2]\t0.9933531033027022\n",
      "[0, 3]\t0.9858447779873775\n",
      "[0, 4]\t0.9688035403827465\n",
      "[0, 5]\t0.9443269500621938\n",
      "[1, 2]\t0.9990574764691498\n",
      "[1, 3]\t0.9984471948737677\n",
      "[1, 4]\t0.9845492408739116\n",
      "[1, 5]\t0.9594218985507887\n",
      "[2, 3]\t0.9974427545837445\n",
      "[2, 4]\t0.9862111614846265\n",
      "[2, 5]\t0.963207738890576\n",
      "[3, 4]\t0.991212737832553\n",
      "[3, 5]\t0.9664036962002395\n",
      "[4, 5]\t0.984966300856087\n"
     ]
    }
   ],
   "source": [
    "!python Scripts/full.py Data/Wikipedia_Editor_Survey_2012_-_anonymized_dataset_clean.csv --quiet"
   ]
  },
  {
   "cell_type": "markdown",
   "metadata": {},
   "source": [
    "# SQLite Answers"
   ]
  },
  {
   "cell_type": "code",
   "execution_count": 23,
   "metadata": {},
   "outputs": [],
   "source": [
    "class Sql:\n",
    "    # Static values\n",
    "    table = \"wiki\"\n",
    "    fields = [\"id\", \"age\", \"time\"]\n",
    "    datapath = 'Data/Wikipedia_Editor_Survey_2012_-_anonymized_dataset_clean.csv'\n",
    "    \n",
    "    # Generate table(columns) string (for population)\n",
    "    # optionally with types (for table creation)\n",
    "    def table_cmd(self, crt = False):\n",
    "        fld = ''\n",
    "        for i,field in enumerate(self.fields):\n",
    "            prmkey = ' PRIMARY KEY' if crt and i == 0 else ''\n",
    "            fldtyp = ' INTEGER' + prmkey if crt else ''\n",
    "            fld += field + fldtyp + ', '\n",
    "        return f'{self.table}({fld[:-2]})'\n",
    "\n",
    "    # Shortcut for executing on cursor and committing to db\n",
    "    # optionally without printing the query command.\n",
    "    def exe(self, cmd, verbose = True):\n",
    "        cmd = dedent(cmd)\n",
    "        c = self.db.cursor()\n",
    "        if verbose:\n",
    "            print(cmd)\n",
    "        c.execute(cmd + ';')\n",
    "        self.db.commit()\n",
    "        return c\n",
    "    \n",
    "    # Sets up database, creates and populates table if none is found already,\n",
    "    # optionally by forcing the database to reload from file.\n",
    "    def __init__(self, databaseName, reloadDb = False):\n",
    "        self.db = sqlite3.connect(databaseName)\n",
    "        self.addFuncs()\n",
    "        \n",
    "        tableCheck = self.exe(f'SELECT name FROM sqlite_master WHERE type=\"table\" AND name=\"{self.table}\"', False).fetchone()\n",
    "        if reloadDb and tableCheck:\n",
    "            self.exe(f'DROP TABLE {self.table}')\n",
    "        if reloadDb or not tableCheck:\n",
    "            self.exe(f'CREATE TABLE {self.table_cmd(crt=True)}')\n",
    "            self.populate()\n",
    "    \n",
    "    # Populates table FROM file given in the static path\n",
    "    def populate(self):\n",
    "        with open(self.datapath) as file:\n",
    "            print(\"Populating from file: \"+self.datapath)\n",
    "            for i,line in enumerate(file):\n",
    "                cmd = f'INSERT INTO {self.table_cmd()} VALUES ({i},{line.rstrip()})'\n",
    "                self.exe(cmd, verbose=False)\n",
    "            print(f\"Populating completed, {i} lines loaded.\")\n",
    "    \n",
    "    # Adds non-native support for power and squareroot functions to the database\n",
    "    def addFuncs(self):\n",
    "        def power(a,b):\n",
    "            return float(a)**float(b)\n",
    "        \n",
    "        def sqrt(a):\n",
    "            return float(a)**0.5\n",
    "        \n",
    "        self.db.create_function(\"POW\",2,power)\n",
    "        self.db.create_function(\"SQRT\",1,sqrt)\n",
    "    \n",
    "    # Generates query sub-string for extracting age into bins\n",
    "    # tabs are purely flavour for printing prettily.\n",
    "    def agebin(self, tabs=0):\n",
    "        age = self.fields[1] # \"age\"\n",
    "        agebounds = getUpperBounds()[0]\n",
    "        substring = f\"\"\"\n",
    "            CASE\n",
    "                WHEN {age} < {agebounds[0]} THEN 0\n",
    "                WHEN {age} < {agebounds[1]} THEN 1\n",
    "                WHEN {age} < {agebounds[2]} THEN 2\n",
    "                WHEN {age} < {agebounds[3]} THEN 3\n",
    "                WHEN {age} < {agebounds[4]} THEN 4\n",
    "                ELSE 5\n",
    "            END\"\"\"\n",
    "        return indent(dedent(substring)[1:],\" \"*4*tabs)[4*tabs:]\n",
    "    \n",
    "    # Generates query sub-string for extracting time into bins\n",
    "    # tabs are purely flavour for printing prettily.\n",
    "    def timebin(self, tabs=0):\n",
    "        time = self.fields[2] # \"time\"\n",
    "        timebounds = getUpperBounds()[1]\n",
    "        substring = f\"\"\"\n",
    "            CASE\n",
    "                WHEN {time} < {timebounds[0]} THEN 0\n",
    "                WHEN {time} < {timebounds[1]} THEN 1\n",
    "                WHEN {time} < {timebounds[2]} THEN 2\n",
    "                WHEN {time} < {timebounds[3]} THEN 3\n",
    "                WHEN {time} < {timebounds[4]} THEN 4\n",
    "                ELSE 5\n",
    "            END\"\"\"\n",
    "        return indent(dedent(substring)[1:],\" \"*4*tabs)[4*tabs:]\n",
    "    \n",
    "    # Execute query for counting populations of distinct age groups\n",
    "    def count_age_groups(self):\n",
    "        table = self.table # \"wiki\"\n",
    "        command = f\"\"\"\n",
    "            SELECT\n",
    "                {self.agebin(tabs=4)} AS agebin,\n",
    "                COUNT(*)\n",
    "            FROM\n",
    "                {table}\n",
    "            GROUP BY\n",
    "                agebin\n",
    "        \"\"\"\n",
    "        return self.exe(command).fetchall()\n",
    "    \n",
    "    # Execute query for counting distinct grouped answers\n",
    "    def count_distinct_grouped_answers(self):\n",
    "        table = self.table # \"wiki\"\n",
    "        command = f\"\"\"\n",
    "            SELECT\n",
    "                {self.agebin(tabs=4)} AS agebin,\n",
    "                {self.timebin(tabs=4)} AS timebin,\n",
    "                COUNT(*)\n",
    "            FROM\n",
    "                {table}\n",
    "            GROUP BY\n",
    "                agebin, timebin\n",
    "        \"\"\"\n",
    "        return self.exe(command).fetchall()\n",
    "    \n",
    "    # Execute query for finding pearson correlation\n",
    "    # between the age and the time column\n",
    "    def pearson_age_time_correlation(self):\n",
    "        table = self.table # \"wiki\"\n",
    "        command = f\"\"\"\n",
    "            SELECT\n",
    "                ( xy-x*y/n ) / SQRT( ( xx-POW(x,2)/n ) * ( yy-POW(y,2)/n ) )\n",
    "            FROM (\n",
    "                SELECT\n",
    "                    COUNT(*) AS n,\n",
    "                    SUM(xi) AS x,\n",
    "                    SUM(xi*xi) AS xx,\n",
    "                    SUM(xi*yi) AS xy,\n",
    "                    SUM(yi) AS y,\n",
    "                    SUM(yi*yi) AS yy\n",
    "                FROM (\n",
    "                    SELECT\n",
    "                        {self.agebin(tabs=6)} AS xi,\n",
    "                        {self.timebin(tabs=6)} AS yi\n",
    "                    FROM\n",
    "                        {table}\n",
    "                )\n",
    "            )\n",
    "        \"\"\"\n",
    "        return self.exe(command).fetchone()\n",
    "    \n",
    "    # Execute query for finding pearson correlation\n",
    "    # between time values for age group-pairs.\n",
    "    def pearson_agegroup_correlations(self):\n",
    "        table = self.table # \"wiki\"       \n",
    "        command = f\"\"\"\n",
    "            WITH distinct_grouped_answers AS (\n",
    "                SELECT\n",
    "                    {self.agebin(tabs=5)} AS agebin,\n",
    "                    {self.timebin(tabs=5)} AS timebin,\n",
    "                    COUNT(*) AS i\n",
    "                FROM\n",
    "                    {table}\n",
    "                GROUP BY\n",
    "                    agebin, timebin\n",
    "            )\n",
    "            SELECT\n",
    "                agex,\n",
    "                agey,\n",
    "                ( xy-x*y/n ) / SQRT( ( xx-POW(x,2)/n ) * ( yy-POW(y,2)/n ) )\n",
    "            FROM (\n",
    "                SELECT\n",
    "                    x.agebin AS agex,\n",
    "                    y.agebin AS agey,\n",
    "                    COUNT(*) AS n,\n",
    "                    SUM(x.i) AS x,\n",
    "                    SUM(x.i*x.i) AS xx,\n",
    "                    SUM(x.i*y.i) AS xy,\n",
    "                    SUM(y.i) AS y,\n",
    "                    SUM(y.i*y.i) AS yy\n",
    "                FROM\n",
    "                    distinct_grouped_answers AS x\n",
    "                LEFT JOIN\n",
    "                    distinct_grouped_answers AS y\n",
    "                ON\n",
    "                    x.timebin = y.timebin\n",
    "                WHERE\n",
    "                    x.agebin < y.agebin\n",
    "                GROUP BY\n",
    "                    x.agebin, y.agebin\n",
    "            )\n",
    "        \"\"\"\n",
    "        return self.exe(command).fetchall()\n",
    "    \n",
    "    def close(self):\n",
    "        self.db.close()"
   ]
  },
  {
   "cell_type": "markdown",
   "metadata": {},
   "source": [
    "### Test"
   ]
  },
  {
   "cell_type": "code",
   "execution_count": 24,
   "metadata": {
    "scrolled": true
   },
   "outputs": [],
   "source": [
    "#sql = Sql('Sqlite/test.sqlite', reloadDb=True)\n",
    "#sql.close()"
   ]
  },
  {
   "cell_type": "code",
   "execution_count": 25,
   "metadata": {
    "scrolled": true
   },
   "outputs": [],
   "source": [
    "sql = Sql('Sqlite/test.sqlite', reloadDb=False)"
   ]
  },
  {
   "cell_type": "code",
   "execution_count": 26,
   "metadata": {},
   "outputs": [
    {
     "name": "stdout",
     "output_type": "stream",
     "text": [
      "\n",
      "SELECT\n",
      "    CASE\n",
      "        WHEN age < 12 THEN 0\n",
      "        WHEN age < 27 THEN 1\n",
      "        WHEN age < 38 THEN 2\n",
      "        WHEN age < 51 THEN 3\n",
      "        WHEN age < 64 THEN 4\n",
      "        ELSE 5\n",
      "    END AS agebin,\n",
      "    COUNT(*)\n",
      "FROM\n",
      "    wiki\n",
      "GROUP BY\n",
      "    agebin\n",
      "\n"
     ]
    },
    {
     "data": {
      "text/plain": [
       "[(0, 1520), (1, 2355), (2, 2194), (3, 1892), (4, 1178), (5, 541)]"
      ]
     },
     "execution_count": 26,
     "metadata": {},
     "output_type": "execute_result"
    }
   ],
   "source": [
    "sql.count_age_groups()"
   ]
  },
  {
   "cell_type": "code",
   "execution_count": 27,
   "metadata": {
    "scrolled": false
   },
   "outputs": [
    {
     "name": "stdout",
     "output_type": "stream",
     "text": [
      "\n",
      "SELECT\n",
      "    CASE\n",
      "        WHEN age < 12 THEN 0\n",
      "        WHEN age < 27 THEN 1\n",
      "        WHEN age < 38 THEN 2\n",
      "        WHEN age < 51 THEN 3\n",
      "        WHEN age < 64 THEN 4\n",
      "        ELSE 5\n",
      "    END AS agebin,\n",
      "    CASE\n",
      "        WHEN time < 1 THEN 0\n",
      "        WHEN time < 3 THEN 1\n",
      "        WHEN time < 6 THEN 2\n",
      "        WHEN time < 10 THEN 3\n",
      "        WHEN time < 16 THEN 4\n",
      "        ELSE 5\n",
      "    END AS timebin,\n",
      "    COUNT(*)\n",
      "FROM\n",
      "    wiki\n",
      "GROUP BY\n",
      "    agebin, timebin\n",
      "\n"
     ]
    },
    {
     "data": {
      "text/plain": [
       "[(0, 0, 639),\n",
       " (0, 1, 364),\n",
       " (0, 2, 230),\n",
       " (0, 3, 102),\n",
       " (0, 4, 87),\n",
       " (0, 5, 98),\n",
       " (1, 0, 941),\n",
       " (1, 1, 502),\n",
       " (1, 2, 373),\n",
       " (1, 3, 142),\n",
       " (1, 4, 212),\n",
       " (1, 5, 185),\n",
       " (2, 0, 879),\n",
       " (2, 1, 483),\n",
       " (2, 2, 326),\n",
       " (2, 3, 128),\n",
       " (2, 4, 199),\n",
       " (2, 5, 179),\n",
       " (3, 0, 754),\n",
       " (3, 1, 385),\n",
       " (3, 2, 292),\n",
       " (3, 3, 115),\n",
       " (3, 4, 195),\n",
       " (3, 5, 151),\n",
       " (4, 0, 502),\n",
       " (4, 1, 228),\n",
       " (4, 2, 145),\n",
       " (4, 3, 76),\n",
       " (4, 4, 134),\n",
       " (4, 5, 93),\n",
       " (5, 0, 258),\n",
       " (5, 1, 96),\n",
       " (5, 2, 51),\n",
       " (5, 3, 29),\n",
       " (5, 4, 46),\n",
       " (5, 5, 61)]"
      ]
     },
     "execution_count": 27,
     "metadata": {},
     "output_type": "execute_result"
    }
   ],
   "source": [
    "sql.count_distinct_grouped_answers()"
   ]
  },
  {
   "cell_type": "code",
   "execution_count": 28,
   "metadata": {
    "scrolled": false
   },
   "outputs": [
    {
     "name": "stdout",
     "output_type": "stream",
     "text": [
      "\n",
      "SELECT\n",
      "    ( xy-x*y/n ) / SQRT( ( xx-POW(x,2)/n ) * ( yy-POW(y,2)/n ) )\n",
      "FROM (\n",
      "    SELECT\n",
      "        COUNT(*) AS n,\n",
      "        SUM(xi) AS x,\n",
      "        SUM(xi*xi) AS xx,\n",
      "        SUM(xi*yi) AS xy,\n",
      "        SUM(yi) AS y,\n",
      "        SUM(yi*yi) AS yy\n",
      "    FROM (\n",
      "        SELECT\n",
      "            CASE\n",
      "                WHEN age < 12 THEN 0\n",
      "                WHEN age < 27 THEN 1\n",
      "                WHEN age < 38 THEN 2\n",
      "                WHEN age < 51 THEN 3\n",
      "                WHEN age < 64 THEN 4\n",
      "                ELSE 5\n",
      "            END AS xi,\n",
      "            CASE\n",
      "                WHEN time < 1 THEN 0\n",
      "                WHEN time < 3 THEN 1\n",
      "                WHEN time < 6 THEN 2\n",
      "                WHEN time < 10 THEN 3\n",
      "                WHEN time < 16 THEN 4\n",
      "                ELSE 5\n",
      "            END AS yi\n",
      "        FROM\n",
      "            wiki\n",
      "    )\n",
      ")\n",
      "\n"
     ]
    },
    {
     "data": {
      "text/plain": [
       "(0.02614244775794243,)"
      ]
     },
     "execution_count": 28,
     "metadata": {},
     "output_type": "execute_result"
    }
   ],
   "source": [
    "sql.pearson_age_time_correlation()"
   ]
  },
  {
   "cell_type": "code",
   "execution_count": 29,
   "metadata": {},
   "outputs": [
    {
     "name": "stdout",
     "output_type": "stream",
     "text": [
      "\n",
      "WITH distinct_grouped_answers AS (\n",
      "    SELECT\n",
      "        CASE\n",
      "            WHEN age < 12 THEN 0\n",
      "            WHEN age < 27 THEN 1\n",
      "            WHEN age < 38 THEN 2\n",
      "            WHEN age < 51 THEN 3\n",
      "            WHEN age < 64 THEN 4\n",
      "            ELSE 5\n",
      "        END AS agebin,\n",
      "        CASE\n",
      "            WHEN time < 1 THEN 0\n",
      "            WHEN time < 3 THEN 1\n",
      "            WHEN time < 6 THEN 2\n",
      "            WHEN time < 10 THEN 3\n",
      "            WHEN time < 16 THEN 4\n",
      "            ELSE 5\n",
      "        END AS timebin,\n",
      "        COUNT(*) AS i\n",
      "    FROM\n",
      "        wiki\n",
      "    GROUP BY\n",
      "        agebin, timebin\n",
      ")\n",
      "SELECT\n",
      "    agex,\n",
      "    agey,\n",
      "    ( xy-x*y/n ) / SQRT( ( xx-POW(x,2)/n ) * ( yy-POW(y,2)/n ) )\n",
      "FROM (\n",
      "    SELECT\n",
      "        x.agebin AS agex,\n",
      "        y.agebin AS agey,\n",
      "        COUNT(*) AS n,\n",
      "        SUM(x.i) AS x,\n",
      "        SUM(x.i*x.i) AS xx,\n",
      "        SUM(x.i*y.i) AS xy,\n",
      "        SUM(y.i) AS y,\n",
      "        SUM(y.i*y.i) AS yy\n",
      "    FROM\n",
      "        distinct_grouped_answers AS x\n",
      "    LEFT JOIN\n",
      "        distinct_grouped_answers AS y\n",
      "    ON\n",
      "        x.timebin = y.timebin\n",
      "    WHERE\n",
      "        x.agebin < y.agebin\n",
      "    GROUP BY\n",
      "        x.agebin, y.agebin\n",
      ")\n",
      "\n"
     ]
    },
    {
     "data": {
      "text/plain": [
       "[(0, 1, 0.9928116386919172),\n",
       " (0, 2, 0.9933541904648534),\n",
       " (0, 3, 0.9858473727356802),\n",
       " (0, 4, 0.9688074028353647),\n",
       " (0, 5, 0.9443305507628293),\n",
       " (1, 2, 0.9990574764691498),\n",
       " (1, 3, 0.9984471948737677),\n",
       " (1, 4, 0.9845492408739116),\n",
       " (1, 5, 0.9594258048167889),\n",
       " (2, 3, 0.9974437541485753),\n",
       " (2, 4, 0.9862126494022766),\n",
       " (2, 5, 0.9632132872263702),\n",
       " (3, 4, 0.9912162890707874),\n",
       " (3, 5, 0.9664070067769718),\n",
       " (4, 5, 0.9849712288661577)]"
      ]
     },
     "execution_count": 29,
     "metadata": {},
     "output_type": "execute_result"
    }
   ],
   "source": [
    "sql.pearson_agegroup_correlations()"
   ]
  },
  {
   "cell_type": "code",
   "execution_count": 30,
   "metadata": {},
   "outputs": [],
   "source": [
    "sql.close()"
   ]
  },
  {
   "cell_type": "code",
   "execution_count": null,
   "metadata": {},
   "outputs": [],
   "source": []
  }
 ],
 "metadata": {
  "kernelspec": {
   "display_name": "Python 3",
   "language": "python",
   "name": "python3"
  },
  "language_info": {
   "codemirror_mode": {
    "name": "ipython",
    "version": 3
   },
   "file_extension": ".py",
   "mimetype": "text/x-python",
   "name": "python",
   "nbconvert_exporter": "python",
   "pygments_lexer": "ipython3",
   "version": "3.6.6"
  }
 },
 "nbformat": 4,
 "nbformat_minor": 2
}
